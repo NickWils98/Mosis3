{
 "cells": [
  {
   "cell_type": "code",
   "execution_count": 14,
   "metadata": {
    "collapsed": true
   },
   "outputs": [],
   "source": [
    "from CBD.Core import *\n",
    "from CBD.lib.std import TimeBlock, GenericBlock\n",
    "from CBD.lib.endpoints import SignalCollectorBlock"
   ]
  },
  {
   "cell_type": "code",
   "execution_count": 15,
   "outputs": [],
   "source": [
    "class SinGen(CBD):\n",
    "    def __init__(self, name=\"SinGen\"):\n",
    "        CBD.__init__(self, name, input_ports=[], output_ports=[])\n",
    "\n",
    "        # Create the blocks\n",
    "        self.addBlock(TimeBlock(\"time\"))\n",
    "        self.addBlock(GenericBlock(\"sin\", block_operator=\"sin\"))\n",
    "        self.addBlock(SignalCollectorBlock(\"collector\"))\n",
    "\n",
    "        # Connect the blocks\n",
    "        self.addConnection(\"time\", \"sin\")\n",
    "        self.addConnection(\"sin\", \"collector\")"
   ],
   "metadata": {
    "collapsed": false
   }
  },
  {
   "cell_type": "code",
   "execution_count": null,
   "outputs": [],
   "source": [],
   "metadata": {
    "collapsed": false
   }
  }
 ],
 "metadata": {
  "kernelspec": {
   "display_name": "Python 3",
   "language": "python",
   "name": "python3"
  },
  "language_info": {
   "codemirror_mode": {
    "name": "ipython",
    "version": 2
   },
   "file_extension": ".py",
   "mimetype": "text/x-python",
   "name": "python",
   "nbconvert_exporter": "python",
   "pygments_lexer": "ipython2",
   "version": "2.7.6"
  }
 },
 "nbformat": 4,
 "nbformat_minor": 0
}
