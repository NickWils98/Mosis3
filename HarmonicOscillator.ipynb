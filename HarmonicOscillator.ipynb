{
 "cells": [
  {
   "cell_type": "code",
   "execution_count": 18,
   "metadata": {
    "collapsed": true
   },
   "outputs": [],
   "source": [
    "from CBD.Core import *\n",
    "from CBD.lib.std import TimeBlock, GenericBlock, IntegratorBlock, DerivatorBlock\n",
    "from CBD.lib.endpoints import SignalCollectorBlock\n",
    "from CBD.simulator import *"
   ]
  },
  {
   "cell_type": "code",
   "execution_count": 19,
   "outputs": [],
   "source": [
    "class SinGen(CBD):\n",
    "    def __init__(self, name=\"SinGen\"):\n",
    "        CBD.__init__(self, name, input_ports=[], output_ports=[])\n",
    "\n",
    "        # Create the blocks\n",
    "        self.addBlock(TimeBlock(\"time\"))\n",
    "        self.addBlock(GenericBlock(\"sin\", block_operator=\"sin\"))\n",
    "        self.addBlock(SignalCollectorBlock(\"collector\"))\n",
    "\n",
    "        # Connect the blocks\n",
    "        self.addConnection(\"time\", \"sin\")\n",
    "        self.addConnection(\"sin\", \"collector\")"
   ],
   "metadata": {
    "collapsed": false
   }
  },
  {
   "cell_type": "code",
   "execution_count": 20,
   "outputs": [],
   "source": [
    "class CBDA(CBD):\n",
    "    def __init__(self, name=\"CBDA\"):\n",
    "        CBD.__init__(self, name, input_ports=[], output_ports=[\"Xa\"])\n",
    "\n",
    "        # Create the blocks\n",
    "        self.addBlock(TimeBlock(\"time\"))\n",
    "        self.addBlock(IntegratorBlock(\"integrator\"))\n",
    "\n",
    "\n",
    "        # Connect the blocks\n",
    "        self.addConnection(\"time\", \"integrator\")\n",
    "        self.addConnection(\"integrator\", \"Xa\")"
   ],
   "metadata": {
    "collapsed": false
   }
  },
  {
   "cell_type": "code",
   "execution_count": 24,
   "outputs": [
    {
     "name": "stderr",
     "output_type": "stream",
     "text": [
      "  0%|          | 0.00/500 [01:12/?, ?it/s]"
     ]
    },
    {
     "data": {
      "text/plain": "<Figure size 500x500 with 1 Axes>",
      "image/png": "[encoded data removed]"
     },
     "metadata": {
      "needs_background": "light"
     },
     "output_type": "display_data"
    }
   ],
   "source": [
    "from CBD.realtime.plotting import PlotManager, LinePlot, follow\n",
    "from CBD.simulator import Simulator\n",
    "import matplotlib.pyplot as plt\n",
    "\n",
    "fig = plt.figure(figsize=(5, 5), dpi=100)\n",
    "ax = fig.add_subplot(111)\n",
    "ax.set_ylim((-1, 1))    # The sine wave never exceeds this range\n",
    "\n",
    "sinGen = SinGen(\"SinGen\")\n",
    "\n",
    "\n",
    "manager = PlotManager()\n",
    "manager.register(\"sin\", sinGen.find('collector')[0], (fig, ax), LinePlot(color='red'))\n",
    "manager.connect('sin', 'update', lambda d, axis=ax: axis.set_xlim(follow(d[0], 10.0, lower_bound=0.0)))\n",
    "\n",
    "sim = Simulator(sinGen)\n",
    "sim.setRealTime()\n",
    "sim.setDeltaT(0.1)\n",
    "sim.connect(\"finished\", manager.terminate)  # make sure manager stops polling for data at simulation end\n",
    "sim.run(20.0)\n",
    "\n",
    "plt.show()"
   ],
   "metadata": {
    "collapsed": false
   }
  },
  {
   "cell_type": "code",
   "execution_count": null,
   "outputs": [],
   "source": [],
   "metadata": {
    "collapsed": false
   }
  }
 ],
 "metadata": {
  "kernelspec": {
   "display_name": "Python 3",
   "language": "python",
   "name": "python3"
  },
  "language_info": {
   "codemirror_mode": {
    "name": "ipython",
    "version": 2
   },
   "file_extension": ".py",
   "mimetype": "text/x-python",
   "name": "python",
   "nbconvert_exporter": "python",
   "pygments_lexer": "ipython2",
   "version": "2.7.6"
  }
 },
 "nbformat": 4,
 "nbformat_minor": 0
}
